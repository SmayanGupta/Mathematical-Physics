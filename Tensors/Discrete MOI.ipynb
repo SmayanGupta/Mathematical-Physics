{
 "cells": [
  {
   "cell_type": "code",
   "execution_count": 1,
   "metadata": {},
   "outputs": [],
   "source": [
    "import numpy as np"
   ]
  },
  {
   "cell_type": "markdown",
   "metadata": {},
   "source": [
    "Given the moment of Inertia Tensor of the form: \n",
    "\n",
    "$\\begin{bmatrix}\n",
    "\\sum_{i=1}^{N} (y_i^2+z_i^2)m_i & -\\sum_{i=1}^{N} x_i y_i m_i & -\\sum_{i=1}^{N}x_i z_i m_i \\\\\n",
    "-\\sum_{i=1}^{N}x_i y_i m_i  &  \\sum_{i=1}^{N} (x_i^2+z_i^2)m_i& -\\sum_{i=1}^{N}z_i y_i m_i\\\\\n",
    "-\\sum_{i=1}^{N}z_i x_i m_i& -\\sum_{i=1}^{N}z_i y_i m_i& \\sum_{i=1}^{N}(x_i^2+y_i^2)m_i\n",
    "\\end{bmatrix}$"
   ]
  },
  {
   "cell_type": "code",
   "execution_count": 8,
   "metadata": {},
   "outputs": [],
   "source": [
    "def moi(mass,pos):\n",
    "    n= len(mass)\n",
    "    diag=[]\n",
    "    for i in range(3):\n",
    "        for j in range(n):\n",
    "            val= (pos[i-2,j]**2+ pos[i-1,j]**2)*mass[j]\n",
    "        diag.append(val)\n",
    "    inertia=np.diag(diag,0)\n",
    "    for i in range(3):\n",
    "        for j in range(3):\n",
    "            if i!=j:\n",
    "                for k in range(n):\n",
    "                    inertia[i,j]-=(pos[i,k]+pos[j,k])\n",
    "    return inertia\n"
   ]
  },
  {
   "cell_type": "code",
   "execution_count": 9,
   "metadata": {},
   "outputs": [
    {
     "data": {
      "text/plain": [
       "array([[13.916, -7.7  , -7.   ],\n",
       "       [-7.7  , 13.916, -6.3  ],\n",
       "       [-7.   , -6.3  , 27.832]])"
      ]
     },
     "execution_count": 9,
     "metadata": {},
     "output_type": "execute_result"
    }
   ],
   "source": [
    "mass=[4.4,1.2,3.5,7.1]\n",
    "a=0.7\n",
    "position=np.array([[a,0,2*a],[2*a,2*a,2*a],[a,a,0],[2*a,2*a,0]]).T\n",
    "moi(mass,position)"
   ]
  },
  {
   "cell_type": "code",
   "execution_count": 12,
   "metadata": {},
   "outputs": [
    {
     "data": {
      "text/plain": [
       "array([[ 4.,  0., -2.],\n",
       "       [ 0.,  4., -2.],\n",
       "       [-2., -2.,  0.]])"
      ]
     },
     "execution_count": 12,
     "metadata": {},
     "output_type": "execute_result"
    }
   ],
   "source": [
    "pos=np.array([[1,1,0],[-1,1,0],[-1,-1,0],[1,-1,0],[0,0,2]]).T\n",
    "moi(np.ones(5),pos)"
   ]
  }
 ],
 "metadata": {
  "interpreter": {
   "hash": "b3ba2566441a7c06988d0923437866b63cedc61552a5af99d1f4fb67d367b25f"
  },
  "kernelspec": {
   "display_name": "Python 3.8.8 64-bit ('base': conda)",
   "name": "python3"
  },
  "language_info": {
   "codemirror_mode": {
    "name": "ipython",
    "version": 3
   },
   "file_extension": ".py",
   "mimetype": "text/x-python",
   "name": "python",
   "nbconvert_exporter": "python",
   "pygments_lexer": "ipython3",
   "version": "3.8.8"
  },
  "orig_nbformat": 4
 },
 "nbformat": 4,
 "nbformat_minor": 2
}
