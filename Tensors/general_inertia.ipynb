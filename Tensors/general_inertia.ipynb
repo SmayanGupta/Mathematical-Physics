{
 "cells": [
  {
   "cell_type": "code",
   "execution_count": 1,
   "metadata": {},
   "outputs": [],
   "source": [
    "import numpy as np\n",
    "import matplotlib.pyplot as plt"
   ]
  },
  {
   "cell_type": "markdown",
   "metadata": {},
   "source": [
    "Given the moment of Inertia Tensor of the form: \n",
    "\n",
    "$\\begin{bmatrix}\n",
    "\\sum_{i=1}^{N} (y_i^2+z_i^2)m_i & -\\sum_{i=1}^{N} x_i y_i m_i & -\\sum_{i=1}^{N}x_i z_i m_i \\\\\n",
    "-\\sum_{i=1}^{N}x_i y_i m_i  &  \\sum_{i=1}^{N} (x_i^2+z_i^2)m_i& -\\sum_{i=1}^{N}z_i y_i m_i\\\\\n",
    "-\\sum_{i=1}^{N}z_i x_i m_i& -\\sum_{i=1}^{N}z_i y_i m_i& \\sum_{i=1}^{N}(x_i^2+y_i^2)m_i\n",
    "\\end{bmatrix}$"
   ]
  },
  {
   "cell_type": "code",
   "execution_count": 18,
   "metadata": {},
   "outputs": [],
   "source": [
    "R=7\n",
    "N=100\n",
    "temp = np.linspace(-R,R,N)\n",
    "sphere=np.zeros((N*N*N,3))\n",
    "k=0\n",
    "for z in range(N):\n",
    "  for y in range(N):\n",
    "    for x in range(N):\n",
    "      if temp[x]**2<=R**2-temp[z]**2-temp[y]**2 :\n",
    "        sphere[k]=[temp[x],temp[y],temp[z]]\n",
    "        k=k+1\n",
    "sphere=sphere[:k]"
   ]
  },
  {
   "cell_type": "code",
   "execution_count": null,
   "metadata": {},
   "outputs": [],
   "source": [
    "n=30\n",
    "a= np.linspace(0,1,30)\n",
    "cube = np.meshgrid(a,a,a)\n",
    "cube"
   ]
  },
  {
   "cell_type": "code",
   "execution_count": 23,
   "metadata": {},
   "outputs": [],
   "source": [
    "class Inertia:\n",
    "    def __init__(self,image,mass=1,normalize=False ):\n",
    "        \n",
    "        self.norm= normalize\n",
    "        self.coordinates = image#np.loadtxt(image,unpack=True) \n",
    "        if self.norm==True:\n",
    "            self.coordinates/= max(self.coordinates.ravel()) \n",
    "        self.x , self.y ,self.z = self.coordinates[:,0],self.coordinates[:,1],self.coordinates[:,2]\n",
    "        self.n = len(self.x)\n",
    "        self.m=mass#/self.n\n",
    "    \n",
    "    def object(self):\n",
    "        fig = plt.figure()\n",
    "        ax = fig.add_subplot(projection='3d')\n",
    "        ax.set_xlabel('x Coordinates')\n",
    "        ax.set_ylabel('y Coordinates')\n",
    "        ax.set_zlabel('z Coordinates')\n",
    "        return ax.scatter(self.x,self.y,self.z)\n",
    "    def calculate_tensor(self):\n",
    "        self.ixy= -np.sum(np.dot(self.x,self.y)*self.m)/self.n\n",
    "        self.ixz= -np.sum(np.dot(self.x,self.z)*self.m)/self.n\n",
    "        self.iyz= -np.sum(np.dot(self.z,self.y)*self.m)/self.n\n",
    "        self.ixx= np.sum((self.x**2 +self.y**2)*self.m)/self.n\n",
    "        self.iyy= np.sum((self.x**2 +self.z**2)*self.m)/self.n\n",
    "        self.izz= np.sum((self.z**2 +self.y**2)*self.m)/self.n\n",
    "        self.inertia= np.array([[self.ixx,self.ixy,self.ixz],\n",
    "        [self.ixy,self.iyy,self.iyz],[self.ixz,self.iyz,self.izz]])\n",
    "        return self.inertia\n",
    "    "
   ]
  },
  {
   "cell_type": "code",
   "execution_count": 31,
   "metadata": {},
   "outputs": [
    {
     "data": {
      "text/plain": [
       "array([-0.35353535, -0.21212121, -0.07070707, ...,  0.07070707,\n",
       "        0.21212121,  0.35353535])"
      ]
     },
     "execution_count": 31,
     "metadata": {},
     "output_type": "execute_result"
    }
   ],
   "source": [
    "sph= Inertia(sphere)\n",
    "sph.x\n"
   ]
  }
 ],
 "metadata": {
  "interpreter": {
   "hash": "b3ba2566441a7c06988d0923437866b63cedc61552a5af99d1f4fb67d367b25f"
  },
  "kernelspec": {
   "display_name": "Python 3.8.8 64-bit ('base': conda)",
   "language": "python",
   "name": "python3"
  },
  "language_info": {
   "codemirror_mode": {
    "name": "ipython",
    "version": 3
   },
   "file_extension": ".py",
   "mimetype": "text/x-python",
   "name": "python",
   "nbconvert_exporter": "python",
   "pygments_lexer": "ipython3",
   "version": "3.8.8"
  },
  "orig_nbformat": 4
 },
 "nbformat": 4,
 "nbformat_minor": 2
}
