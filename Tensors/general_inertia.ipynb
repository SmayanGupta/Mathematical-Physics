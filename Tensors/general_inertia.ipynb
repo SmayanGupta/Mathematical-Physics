{
 "cells": [
  {
   "cell_type": "code",
   "execution_count": 45,
   "metadata": {},
   "outputs": [],
   "source": [
    "import numpy as np\n",
    "import matplotlib.pyplot as plt\n",
    "from numpy.linalg import eigh"
   ]
  },
  {
   "cell_type": "markdown",
   "metadata": {},
   "source": [
    "Given the moment of Inertia Tensor of the form: \n",
    "\n",
    "$\\begin{bmatrix}\n",
    "\\sum_{i=1}^{N} (y_i^2+z_i^2)m_i & -\\sum_{i=1}^{N} x_i y_i m_i & -\\sum_{i=1}^{N}x_i z_i m_i \\\\\n",
    "-\\sum_{i=1}^{N}x_i y_i m_i  &  \\sum_{i=1}^{N} (x_i^2+z_i^2)m_i& -\\sum_{i=1}^{N}z_i y_i m_i\\\\\n",
    "-\\sum_{i=1}^{N}z_i x_i m_i& -\\sum_{i=1}^{N}z_i y_i m_i& \\sum_{i=1}^{N}(x_i^2+y_i^2)m_i\n",
    "\\end{bmatrix}$"
   ]
  },
  {
   "cell_type": "markdown",
   "metadata": {},
   "source": [
    "Creating a general class to calaculate the moment of inertia of any object"
   ]
  },
  {
   "cell_type": "code",
   "execution_count": 55,
   "metadata": {},
   "outputs": [],
   "source": [
    "class InertiaTensor:\n",
    "    def __init__(self,image,mass=1,normalize=False ):\n",
    "        \n",
    "        self.norm= normalize\n",
    "        self.coordinates = image#np.loadtxt(image,unpack=True) \n",
    "        if self.norm==True:\n",
    "            self.coordinates/= max(self.coordinates.ravel()) \n",
    "        self.x , self.y ,self.z = self.coordinates[:,0],self.coordinates[:,1],self.coordinates[:,2]\n",
    "        self.n = len(self.x)\n",
    "        self.m=mass#/self.n\n",
    "        \n",
    "    \n",
    "    def object(self):\n",
    "        self.fig = plt.figure()\n",
    "        self.ax = self.fig.add_subplot(projection='3d')\n",
    "        self.ax.set_xlabel('x Coordinates')\n",
    "        self.ax.set_ylabel('y Coordinates')\n",
    "        self.ax.set_zlabel('z Coordinates')\n",
    "        return self.ax.scatter(self.x,self.y,self.z)\n",
    "    def continous(self):\n",
    "        self.ixy= -np.sum(np.dot(self.x,self.y)*self.m)/self.n\n",
    "        self.ixz= -np.sum(np.dot(self.x,self.z)*self.m)/self.n\n",
    "        self.iyz= -np.sum(np.dot(self.z,self.y)*self.m)/self.n\n",
    "        self.ixx= np.sum((self.x**2 +self.y**2)*self.m)/self.n\n",
    "        self.iyy= np.sum((self.x**2 +self.z**2)*self.m)/self.n\n",
    "        self.izz= np.sum((self.z**2 +self.y**2)*self.m)/self.n\n",
    "        self.inertia= np.array([[self.ixx,self.ixy,self.ixz],\n",
    "        [self.ixy,self.iyy,self.iyz],[self.ixz,self.iyz,self.izz]])\n",
    "        return self.inertia\n",
    "    def discrete(self):\n",
    "        return self.n*self.continous()\n",
    "    def principle(self,text):\n",
    "        if text=='continous':\n",
    "            values,vectors=np.linalg.eigh(self.continous())\n",
    "            print('The principle moments are',values)\n",
    "            return self.ax.plot(np.zeros(3),vectors.T[0,:])\n",
    "\n",
    "            \n",
    "      \n",
    "\n",
    "    "
   ]
  },
  {
   "cell_type": "code",
   "execution_count": 30,
   "metadata": {},
   "outputs": [
    {
     "data": {
      "text/plain": [
       "array([[ 1.95827487e+01, -1.79254577e-18, -3.83156658e-17],\n",
       "       [-1.79254577e-18,  1.95827487e+01, -1.11137838e-16],\n",
       "       [-3.83156658e-17, -1.11137838e-16,  1.95827487e+01]])"
      ]
     },
     "execution_count": 30,
     "metadata": {},
     "output_type": "execute_result"
    }
   ],
   "source": [
    "sph= InertiaTensor(sphere)\n",
    "sph.continous()\n"
   ]
  },
  {
   "cell_type": "code",
   "execution_count": 56,
   "metadata": {},
   "outputs": [
    {
     "name": "stdout",
     "output_type": "stream",
     "text": [
      "[[ 38.122 -71.442 -47.628]\n",
      " [-71.442  31.115 -31.752]\n",
      " [-47.628 -31.752  28.959]]\n",
      "The principle moments of inertia is, [-69.02646931  58.36372283 108.85874648]\n",
      "The principle axis as column vectors are \n",
      " [[ 0.62331489  0.60266635  0.49826882]\n",
      " [ 0.17936542  0.51001714 -0.84125535]\n",
      " [ 0.76112193 -0.61373918 -0.20980378]]\n"
     ]
    }
   ],
   "source": [
    "mass=np.array([4.4,1.2,3.5,7.1])\n",
    "position=np.array([[0.7,0,2*0.7],[2*0.7,2*0.7,2*0.7],[0.7,0.7,0],[2*0.7,2*0.7,0]])\n",
    "tensor=InertiaTensor(position,mass)\n",
    "print(tensor.discrete())\n",
    "values,vectors=np.linalg.eigh(tensor.discrete())\n",
    "print(\"The principle moments of inertia is,\",values)\n",
    "print('The principle axis as column vectors are \\n',vectors.T)"
   ]
  },
  {
   "cell_type": "code",
   "execution_count": 57,
   "metadata": {},
   "outputs": [
    {
     "name": "stdout",
     "output_type": "stream",
     "text": [
      "[[ 0.67816092 -0.25       -0.25      ]\n",
      " [-0.25        0.67816092 -0.25      ]\n",
      " [-0.25       -0.25        0.67816092]]\n",
      "The principle moments of inertia is, [0.17816092 0.92816092 0.92816092]\n",
      "The principle axis as column vectors are \n",
      " [[ 0.57735027  0.57735027  0.57735027]\n",
      " [-0.81649658  0.40824829  0.40824829]\n",
      " [ 0.         -0.70710678  0.70710678]]\n"
     ]
    }
   ],
   "source": [
    "n=30\n",
    "a= np.linspace(0,1,30)\n",
    "x,y,z = np.meshgrid(a,a,a)\n",
    "\n",
    "cubepoints = np.array([x.ravel(),y.ravel(),z.ravel()]).T\n",
    "cube=InertiaTensor(cubepoints)\n",
    "\n",
    "print(cube.continous())\n",
    "values,vectors=np.linalg.eigh(cube.continous())\n",
    "print(\"The principle moments of inertia is,\",values)\n",
    "print('The principle axis as column vectors are \\n',vectors.T)\n"
   ]
  }
 ],
 "metadata": {
  "interpreter": {
   "hash": "b3ba2566441a7c06988d0923437866b63cedc61552a5af99d1f4fb67d367b25f"
  },
  "kernelspec": {
   "display_name": "Python 3.8.8 64-bit ('base': conda)",
   "language": "python",
   "name": "python3"
  },
  "language_info": {
   "codemirror_mode": {
    "name": "ipython",
    "version": 3
   },
   "file_extension": ".py",
   "mimetype": "text/x-python",
   "name": "python",
   "nbconvert_exporter": "python",
   "pygments_lexer": "ipython3",
   "version": "3.8.8"
  },
  "orig_nbformat": 4
 },
 "nbformat": 4,
 "nbformat_minor": 2
}
