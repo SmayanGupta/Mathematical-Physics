{
 "cells": [
  {
   "cell_type": "code",
   "execution_count": 1,
   "metadata": {},
   "outputs": [
    {
     "data": {
      "text/plain": [
       "' Power method and Inverse Power method\\nSmayan Gupta\\n19/17067\\nSection-A\\nBsc Physics Hons\\n'"
      ]
     },
     "execution_count": 1,
     "metadata": {},
     "output_type": "execute_result"
    }
   ],
   "source": [
    "''' Power method and Inverse Power method\n",
    "Smayan Gupta\n",
    "19/17067\n",
    "Section-A\n",
    "Bsc Physics Hons\n",
    "'''"
   ]
  },
  {
   "cell_type": "code",
   "execution_count": 2,
   "metadata": {},
   "outputs": [],
   "source": [
    "import numpy as np"
   ]
  },
  {
   "cell_type": "code",
   "execution_count": 25,
   "metadata": {},
   "outputs": [],
   "source": [
    "#iterations \n",
    "n=5\n",
    "def normalize(x):\n",
    "    value= abs(x).max()\n",
    "    xn = x/max(abs(x))\n",
    "    return value,xn"
   ]
  },
  {
   "cell_type": "code",
   "execution_count": 32,
   "metadata": {},
   "outputs": [],
   "source": [
    "#initial vector \n",
    "x=np.array([1,0,1])\n",
    "#matrix to find eigenvalues of\n",
    "A1=np.array([[1,-1,0],[-1,2,-1],[0,-1,1]])\n",
    "A2=np.array([[0,11,-5],[-2,17,-7],[-4,26,20]])\n",
    "A3=np.array([[3,2,-3],[-3,-4,9],[-2,-2,5]])\n"
   ]
  },
  {
   "cell_type": "code",
   "execution_count": 33,
   "metadata": {},
   "outputs": [
    {
     "name": "stdout",
     "output_type": "stream",
     "text": [
      "Largest eigenvalue is  3.0\n"
     ]
    }
   ],
   "source": [
    "for i in range(n):\n",
    "    x=np.dot(A1,x)\n",
    "    eigenvalue, x= normalize(x)\n",
    "print('Largest eigenvalue is ',eigenvalue)\n"
   ]
  },
  {
   "cell_type": "code",
   "execution_count": 31,
   "metadata": {},
   "outputs": [
    {
     "name": "stdout",
     "output_type": "stream",
     "text": [
      "Matrix is Singular\n"
     ]
    }
   ],
   "source": [
    "\n",
    "if np.linalg.det(A1)!=0:\n",
    "    A_1 = np.linalg.inv(A)\n",
    "    for i in range(n):\n",
    "        x= np.dot(A_1,x)\n",
    "        eigenvalue, x= normalize(x)\n",
    "    print('Largest eigenvalue is ',eigenvalue)\n",
    "else: \n",
    "    print('Matrix is Singular')\n"
   ]
  }
 ],
 "metadata": {
  "interpreter": {
   "hash": "b3ba2566441a7c06988d0923437866b63cedc61552a5af99d1f4fb67d367b25f"
  },
  "kernelspec": {
   "display_name": "Python 3.8.8 64-bit ('base': conda)",
   "language": "python",
   "name": "python3"
  },
  "language_info": {
   "codemirror_mode": {
    "name": "ipython",
    "version": 3
   },
   "file_extension": ".py",
   "mimetype": "text/x-python",
   "name": "python",
   "nbconvert_exporter": "python",
   "pygments_lexer": "ipython3",
   "version": "3.8.8"
  },
  "orig_nbformat": 4
 },
 "nbformat": 4,
 "nbformat_minor": 2
}
